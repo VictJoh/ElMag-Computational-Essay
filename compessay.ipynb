{
 "cells": [
  {
   "cell_type": "markdown",
   "metadata": {},
   "source": [
    "# How to Kill a Fishingbird\n",
    "![image.png](attachment:image.png)\n",
    "## Introduksjon\n",
    "\n",
    "Vi skal utforske hvordan en mikrobølgeovn fungerer i elektromagnetisk kontekst. Dette er spesifikt for å kunne se hvor raskt og hvordan en mikrobølgeovn kunne drept en fisk avhengig av størrelse og utforming på fisken\n",
    "## Teori\n",
    "\n",
    "\n",
    "\n",
    "## Antagelser under modellering\n",
    "![image.png](attachment:MicrowaveStats.png)\n",
    "## Numerisk løsning\n",
    "## Resultat\n",
    "## Konklusjon \n",
    "Introduction\n",
    "- purpose \n",
    "- context and background \n",
    "- research question\n",
    "\n",
    "Theroretical how microwave works\n",
    "- heating mechanics \n",
    "- lethal temp threshhold for fish/dehydration/no air\n",
    "\n",
    "\n",
    "Modeling and assumptions\n",
    "- simply assump\n",
    "- fish size and shape\n",
    "- powersettings\n",
    "- heat eq\n",
    "\n",
    "Comp approach\n",
    "- sim setup\n",
    "- numerical methods\n",
    "- implementation \n",
    "\n",
    "Results tissepikk\n"
   ]
  },
  {
   "cell_type": "markdown",
   "metadata": {},
   "source": [
    "tissefant"
   ]
  }
 ],
 "metadata": {
  "kernelspec": {
   "display_name": "CompEssay",
   "language": "python",
   "name": "python3"
  },
  "language_info": {
   "codemirror_mode": {
    "name": "ipython",
    "version": 3
   },
   "file_extension": ".py",
   "mimetype": "text/x-python",
   "name": "python",
   "nbconvert_exporter": "python",
   "pygments_lexer": "ipython3",
   "version": "3.11.5"
  }
 },
 "nbformat": 4,
 "nbformat_minor": 4
}
