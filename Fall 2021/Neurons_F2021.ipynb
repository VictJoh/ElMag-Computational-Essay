{
 "cells": [
  {
   "cell_type": "markdown",
   "metadata": {
    "colab_type": "text",
    "id": "uZkolyD_8sIp"
   },
   "source": [
    "# Simulating a Nerve Cell\n",
    "\n",
    "## Introduction\n",
    "\n",
    "A nerve cell (also known as a neuron) is a special kind of cell that is capable of recieving and transmitting electrical signals (in the form of voltage pulses). However, the mechanism behind these signals is different than that in most electronics. If you measure the voltage inside a nerve cell, relative to the outside of the cell, you will find that when the cell is *at rest*, there is a negative voltage difference or potential across the cell membrane. This potential is due to a separation of charges, as the concentration of positive charges (in the form of sodium and potassium ions) is slightly higher on the outside of the cell than the inside. When a nerve cell *fires*, it pulls in many of these positive ions from the outside, rapidly shifting the voltage difference from negative to positive (relative to the outside of the cell). The cell then allows the ions to migrate back to their original positions, returning it to neutral.\n",
    "\n",
    "(For a more detailed explantion of this process, see http://hyperphysics.phy-astr.gsu.edu/hbase/Biology/actpot.html)\n",
    "\n",
    "This notebook is meant to give you a start on modeling the process of nerve signal generation. We will not build a complete model of a nerve in this notebook (that's your job, if you choose), but we will model a part of the process—the restoration of the cell to equilibrium (resting potential)."
   ]
  },
  {
   "cell_type": "markdown",
   "metadata": {},
   "source": [
    "## Simulating the Nerve Cell\n",
    "\n",
    "Before we do anything, we require some imports:"
   ]
  },
  {
   "cell_type": "code",
   "execution_count": 1,
   "metadata": {
    "colab": {},
    "colab_type": "code",
    "id": "oMWZs_WP0tqI"
   },
   "outputs": [],
   "source": [
    "%matplotlib inline \n",
    "import numpy as np\n",
    "import matplotlib.pyplot as plt"
   ]
  },
  {
   "cell_type": "markdown",
   "metadata": {
    "colab_type": "text",
    "id": "geaCf4FS7Rp_"
   },
   "source": [
    "To begin, we will only consider the main cell body, or soma, of a so-called unipolar soma. For a more thorough introduction of nerve cell structure and function, see for example https://courses.lumenlearning.com/boundless-psychology/chapter/neurons/ .\n",
    "For now, we will not include an axon, the part responsible for transmitting electrical signals to other connected neurons.\n",
    "\n",
    "In order to simplify things, but still have a rich model, we will keep everything two-dimensional. We will take the body of our nerve cell to be perfectly round, and the cell wall to be a circle of radius 30 microns, which is somewhat typical in humans (https://synapseweb.clm.utexas.edu/dimensions-dendrites).\n",
    "We also imagine studying our neuron in a closed square space in order to keep things manageable. \n",
    "\n",
    "We start off by initializing our variables, including the cell radius, overall space, number of charges, and our coordinate system"
   ]
  },
  {
   "cell_type": "code",
   "execution_count": 2,
   "metadata": {
    "colab": {},
    "colab_type": "code",
    "id": "wHUUntqp05Pi"
   },
   "outputs": [],
   "source": [
    "cell_radius = 30e-6  # Radius of cell, in m\n",
    "border = 3*cell_radius # Size of the imagined space we are studying the cell in\n",
    "num_charges = 150 # number of charges\n",
    "\n",
    "theta = np.linspace(0, 2*np.pi, 100) # Create cell \"wall\", for visualization \n",
    "x_wall = cell_radius*np.cos(theta) # Polar coordinates\n",
    "y_wall = cell_radius*np.sin(theta) \n",
    "membrane = 1e-8 # Thickness of cell membrane\n",
    "#https://hypertextbook.com/facts/2001/JenniferShloming.shtml"
   ]
  },
  {
   "cell_type": "markdown",
   "metadata": {
    "colab_type": "text",
    "id": "-4rqaNpdMrJT"
   },
   "source": [
    "In order for anything interesting to happen, we have to add some ions to the mix! We first have to figure out how we can describe all the charges present in our simulation. We know that in order to simulate a charge's motion over time we need to know its\n",
    "- Position\n",
    "- Velocity \n",
    "- Charge\n",
    "\n",
    "In this scenario, the nerve cell has already pumped in a large number of positive ions from the outside, giving it a net positive charge. We randomly assign initial positions and velocities to each charge, (within the confines of our space, but inside the cell), and we also randomly assign two-thirds of the charges to be positive, the other negative, so as to have a net positive charge (as would occur once the cell has \"fired\"). To avoid clustering in the centre of the cell, we have to randomly assign radii according to \n",
    "http://mathworld.wolfram.com/DiskPointPicking.html, as the naive approach of simply picking uniformly distributed radii doesn't scale appropriately!\n"
   ]
  },
  {
   "cell_type": "code",
   "execution_count": 3,
   "metadata": {
    "colab": {
     "base_uri": "https://localhost:8080/",
     "height": 621
    },
    "colab_type": "code",
    "id": "Ba1lr9BPMonY",
    "outputId": "bde82e3e-6417-44c5-a49b-015fa2ba7fc0"
   },
   "outputs": [],
   "source": [
    "def init_charges(cell_radius, border, num_charges, max_speed, eps):\n",
    "    \"\"\"Function to set up the cell boundaries and charges\"\"\"\n",
    "    # eps is some small term, to avoid spawning charges in cell wall or at zero\n",
    "  \n",
    "    radius = np.random.uniform(0, 1, num_charges) # Random radii\n",
    "    theta0 = np.random.uniform(0, 2*np.pi, num_charges) # angle\n",
    "    x = np.sqrt(radius)*np.cos(theta0)*(cell_radius - eps) # Polar coordinates\n",
    "    y = np.sqrt(radius)*np.sin(theta0)*(cell_radius - eps) # sqrt() is for scaling\n",
    "  \n",
    "    r0 = np.zeros((2, num_charges)) # initial position array\n",
    "    r0[0] = x\n",
    "    r0[1] = y\n",
    "    v0 = np.random.uniform(-max_speed, max_speed, size = (2, num_charges))\n",
    "    # We also randomly assign an initial velocity\n",
    "  \n",
    "    e = 1.60e-19 # Elementary charge, C\n",
    "  \n",
    "    q = np.ones(num_charges)  # init charges\n",
    "    q[:int(num_charges/3)] = -1 # About a third are negative\n",
    "    q = q*e\n",
    "  \n",
    "    return r0, v0, q"
   ]
  },
  {
   "cell_type": "markdown",
   "metadata": {},
   "source": [
    "Now, we create a function to draw the cell, including the charges and the cell boundary. "
   ]
  },
  {
   "cell_type": "code",
   "execution_count": 4,
   "metadata": {},
   "outputs": [],
   "source": [
    "def draw_cell(x_wall, y_wall, x_charge, y_charge, q, border):\n",
    "    \"\"\"Function to plot the cell wall and the charges\"\"\" \n",
    "    plt.title('Soma')\n",
    "    plt.plot(x_wall, y_wall, '-k', linewidth = 0.7)\n",
    "    plt.gca().set_aspect('equal', adjustable='box') # sets axes equal\n",
    "\n",
    "    positives = q > 0 # check the charge of each particle, to plot correct symbol\n",
    "    negatives = q < 0 \n",
    "    plt.plot(x_charge[positives], y_charge[positives], '+r') \n",
    "    plt.plot(x_charge[negatives], y_charge[negatives], marker = 1, linestyle = \"None\")\n",
    "    # marker = 1 is a dash, linestyle None removes connecting lines \n",
    "    plt.xlabel('x [m]')\n",
    "    plt.ylabel('y [m]')\n",
    "    plt.axis([-border, border, -border, border])\n",
    "    plt.show()"
   ]
  },
  {
   "cell_type": "markdown",
   "metadata": {},
   "source": [
    "And, to make things fun, we define a function that adds in some random motion, to keep the results from being too predictable."
   ]
  },
  {
   "cell_type": "code",
   "execution_count": 5,
   "metadata": {},
   "outputs": [],
   "source": [
    "def jiggle(shape, jiggle_factor):\n",
    "    \"\"\"Function to create noise, to mimic random motion of particles\"\"\" \n",
    "    return np.random.uniform(-jiggle_factor, jiggle_factor, shape)"
   ]
  },
  {
   "cell_type": "markdown",
   "metadata": {},
   "source": [
    "As a test, we will see if these functions create the expected picture:"
   ]
  },
  {
   "cell_type": "code",
   "execution_count": 6,
   "metadata": {},
   "outputs": [
    {
     "data": {
      "image/png": "[encoded data removed]",
      "text/plain": [
       "<Figure size 720x720 with 1 Axes>"
      ]
     },
     "metadata": {
      "needs_background": "light"
     },
     "output_type": "display_data"
    }
   ],
   "source": [
    "init_speed = 5 # maximum initial velocity, in m/s\n",
    "r0, v0, q = init_charges(cell_radius, border, num_charges, init_speed, membrane)  \n",
    "plt.figure(figsize = (10,10)) # Nice and large figure\n",
    "draw_cell(x_wall, y_wall, r0[0], r0[1], q, border) # Draw cell and charges"
   ]
  },
  {
   "cell_type": "markdown",
   "metadata": {
    "colab_type": "text",
    "id": "a8aqUBIbQuGl"
   },
   "source": [
    "Note that we are not actually specifying what kinds of particles these are yet, that can be determined by the mass of the particles at a later time.\n",
    "\n",
    "Now, nothing can, or will happen, until we start calculating the movements of these charges.  \n",
    "To do so, we can use a typical  Euler-Chromer integration scheme.\n",
    "\n",
    "To add some more depth to our model, we will include the fact that the cell membrane is selectively permeable. In essence, this means that only certain particles are able to pass through the cell wall and out of (or into) the cell through special channels. To mimic this, we will only let positive charges out of the cell, and keep negative ones inside. \n",
    "\n",
    "Furthermore, we will not allow positive charges which are outside the cell back in. This is done to encourage the formation of a charge separation, even when the number of charges is relatively small. We will also be adding some noise to the position of the particles, as they randomly move about due to thermal motion for instance. This will also help the positive charges diffuse out of the cell,which is critical if we are to have a charge separation occur spontaneously.\n",
    "For more information, see https://www.youtube.com/watch?v=PtKAeihnbv0 for example."
   ]
  },
  {
   "cell_type": "code",
   "execution_count": 7,
   "metadata": {
    "colab": {},
    "colab_type": "code",
    "id": "9jpdYGpG3Kz7"
   },
   "outputs": [],
   "source": [
    "def calculate_motion(timesteps, r, v, acc, dt, q, jiggle_factor):\n",
    "    '''\n",
    "    Calculates motions of the charges in and around the cell.\n",
    "    Uses Euler Chromer integration\n",
    "    r is position, v is velocity, both arrays.\n",
    "    dt is timestep, acc is an acceleration function, which should depend on\n",
    "    position r, at a given timestep.\n",
    "    Also does some logic to make sure particles stay where they should\n",
    "    '''\n",
    "    v_shape = v[0].shape # just to avoid repeated call\n",
    "  \n",
    "    for i in range(timesteps-1):\n",
    "        # Euler-Chromer integration\n",
    "        v[i+1] = v[i] + acc(r[i])*dt\n",
    "        r[i+1] = r[i] + v[i+1]*dt + jiggle(v_shape, jiggle_factor)\n",
    "        # We add some jiggle/noise to the position at the next step!\n",
    "    \n",
    "        # This part checks that we don't go inside/outside the neuron unless we want to!\n",
    "        next_dist_to_centre = np.linalg.norm(r[i+1], axis = 0) \n",
    "        prev_dist_to_centre = np.linalg.norm(r[i], axis = 0)\n",
    "        # checks distance to centre of cell in previous and next timesteps\n",
    "\n",
    "        exiting_cell = next_dist_to_centre > cell_radius \n",
    "        entering_cell = np.logical_and(prev_dist_to_centre > cell_radius + membrane,\\\n",
    "                                   next_dist_to_centre < cell_radius + membrane)\n",
    "        # np.logical_and is just readable way of doing logical operations on arrays\n",
    "    \n",
    "        # syntax of np.where : where(condition is True, put *this*, else put *this other thing*)\n",
    "        if np.any(exiting_cell):\n",
    "            # If any particles are exiting the cell but shouldn't: Crash'em\n",
    "            crash_mask = np.logical_and(exiting_cell, q < 0) # Negative charges are not allowed to leave cell\n",
    "            crash_mask = np.logical_and(crash_mask, prev_dist_to_centre < cell_radius)\n",
    "            v[i+1] = np.where(crash_mask, 0, v[i+1]) # and crash inelastically into membrane\n",
    "            r[i+1] = np.where(crash_mask, r[i], r[i+1]) \n",
    "\n",
    "        if np.any(entering_cell):\n",
    "            # Similar course of action for charges entering the cell\n",
    "            r[i+1] = np.where(entering_cell, r[i], r[i+1])\n",
    "            v[i+1] = np.where(entering_cell, 0, v[i+1])\n",
    "            # Finally, we check if any charges are leaving the imagined space\n",
    "            # If so, we simply bounce them back, elastically\n",
    "        exiting_space = np.abs(r[i+1]) >= border\n",
    "        if np.any(exiting_space):\n",
    "            r[i+1] = np.where(exiting_space, r[i], r[i+1])\n",
    "            v[i+1] = np.where(exiting_space,-v[i+1], v[i+1])\n",
    "    return r, v\n"
   ]
  },
  {
   "cell_type": "markdown",
   "metadata": {
    "colab_type": "text",
    "id": "CjbIPmIASQDr"
   },
   "source": [
    "Note that the acceleration we feed into calculate_motion has to be a function of position! This is because the electrical forces that act on a charge, depends on its distance to the charges that are acting on it, as described by Coloumb's law.  For a pair of charged particles, the electrical force acting on one of the charges, due to the other, may be written as \n",
    "\n",
    "$$\\vec{F}_e = \\frac{1}{4\\pi \\epsilon_0\\epsilon_r}\\cdot \\frac{q_1q_2}{r_{21}^3}\\vec{r}_{21} $$ \n",
    "\n",
    "where $\\epsilon_0$ is the permittivity of free space,  $\\epsilon_r$ is the relative permittivity of the dielectric, while $q_1$ is the charge of particle 1, $q_2$ the charge of particle 2, and $\\vec{r}_{21}$ is the distance vector between the two charges, pointing from charge 2, to charge 1, while $r_{21}$ is simply the length of this vector. Note that the fluid surrounding the neuron acts as a dielectric to some degree, but we will assume that this effect is small, and can be neglected (by setting $\\epsilon_r$ equal to 1).\n",
    "When we have a whole ensemble of charges things get sligthly more complicated, as each charge experiences a force from every other charge. In reality, this only means that we have to sum the contributions of every other charge to get the net force, i.e. applying the above equation to every possible pair of charges. \n",
    "\n",
    "Below is a (sub-optimal) implementation of the many-particle version of Coloumb's law, which works quite simply by determining the distance vector between each possible pair of charges in our cell, and summing all the contributions to find the force acting on each particle, at a given timestep.\n",
    "\n"
   ]
  },
  {
   "cell_type": "code",
   "execution_count": 8,
   "metadata": {
    "colab": {},
    "colab_type": "code",
    "id": "91ZsdL_cWry9"
   },
   "outputs": [],
   "source": [
    "def coloumb_force(r, q):\n",
    "    '''\n",
    "    Calculates the coloumb force on every charge with position r and charge q,\n",
    "    from all other charges at a single timestep. \n",
    "    r is assumed to be shape (2, number of charges), and q to be of shape \n",
    "    (number of charges, 1)\n",
    "    '''\n",
    "    eps_0 = 8.854*1e-12 # F/m permittivity of free space\n",
    "    # https://physics.nist.gov/cgi-bin/cuu/Value?ep0\n",
    "    min_dist = 1e-7 # Spacing term, to avoid crazy forces when charges get very close \n",
    "    num_charges = len(q)\n",
    "    f_coloumb = np.zeros((2, num_charges))\n",
    "    mask_indices = np.arange(0, num_charges)\n",
    "    for i in range(num_charges):\n",
    "        # Cycle through all charges\n",
    "        mask = mask_indices != i # Masks/picks out charge number i\n",
    "        r_vec = r[:,i].reshape(2,1) - r[:, mask]  # Distance vector\n",
    "        # reshape allows us to subtract the current (x,y) from  all other positions\n",
    "        r_norm = np.linalg.norm(r_vec, axis = 0) # length of vector\n",
    "        f = np.where( r_norm > min_dist, q[i]*q[mask]*r_vec/r_norm**3,0) \n",
    "        #If charges are too close, the force is set to zero\n",
    "        f_coloumb[:, i] = 1/(4*np.pi*eps_0)*np.sum(f, axis = 1) # Sum all contributions\n",
    "    return f_coloumb\n",
    "    "
   ]
  },
  {
   "cell_type": "markdown",
   "metadata": {
    "colab_type": "text",
    "id": "MCIvpON9-E21"
   },
   "source": [
    "At last we are ready to set up our simulation: For this simulation, we will have the positive charges be\n",
    "potassium ions, and the negative ones chloride ions, as specified by their respective masses. See  https://www.khanacademy.org/science/biology/human-biology/neuron-nervous-system/a/the-membrane-potential for even more information!\n",
    " "
   ]
  },
  {
   "cell_type": "code",
   "execution_count": 9,
   "metadata": {
    "colab": {},
    "colab_type": "code",
    "id": "sUnarY8l8681"
   },
   "outputs": [],
   "source": [
    "timesteps = 5000\n",
    "r = np.zeros((timesteps, 2, num_charges))\n",
    "v = np.zeros((timesteps, 2, num_charges))\n",
    "\n",
    "r[0] = r0\n",
    "v[0] = v0\n",
    "\n",
    "m_potassium = 6.49e-26 # mass of potassium\n",
    "m_chlorine = 5.89e-26\n",
    "\n",
    "jiggle_factor = 1e-7\n",
    "\n",
    "# where q is positive, potassium, else chlorine\n",
    "m = np.where(q > 0, m_potassium, m_chlorine)\n",
    "\n",
    "# Since everything is on the cellular level, we need a small timestep, too\n",
    "dt = 1e-10\n",
    "\n",
    "# Only electrical forces are at play, so acceleration is found using Newtons second law\n",
    "acc_func = lambda position: coloumb_force(position, q)/m \n",
    "# This might take some time, depending on the number of charges you include.\n",
    "r, v = calculate_motion(timesteps, r, v, acc_func, dt, q, jiggle_factor)"
   ]
  },
  {
   "cell_type": "markdown",
   "metadata": {
    "colab_type": "text",
    "id": "rdspsWL7m6SL"
   },
   "source": [
    "To visualize this, we can simply plot the cell again, with the final distribution of charges"
   ]
  },
  {
   "cell_type": "code",
   "execution_count": 10,
   "metadata": {
    "colab": {
     "base_uri": "https://localhost:8080/",
     "height": 621
    },
    "colab_type": "code",
    "id": "-J_gk4AtZihA",
    "outputId": "1ec2fd95-bc58-4d02-c55d-dc0572e7e502"
   },
   "outputs": [
    {
     "data": {
      "image/png": "[encoded data removed]",
      "text/plain": [
       "<Figure size 720x720 with 1 Axes>"
      ]
     },
     "metadata": {
      "needs_background": "light"
     },
     "output_type": "display_data"
    }
   ],
   "source": [
    "plt.figure(figsize = (10,10))\n",
    "# Draw cell and charges after simulation\n",
    "draw_cell(x_wall, y_wall, r[-1,0], r[-1, 1], q, border) "
   ]
  },
  {
   "cell_type": "markdown",
   "metadata": {
    "colab_type": "text",
    "id": "zZ8eU7LGlLrt"
   },
   "source": [
    "We can see that the positive charges leak out of the cell as we expect, and attract the negative charges to the cell wall. "
   ]
  },
  {
   "cell_type": "markdown",
   "metadata": {
    "colab_type": "text",
    "id": "zqFZMYjXflI1"
   },
   "source": [
    "## Additional questions you might investigate\n",
    "\n",
    "1. How would you model the remaining part of the process of a nerve signal firing? \n",
    "2. What is the voltage of the system as a function of time, relative to the outside of the cell? How does this compare with the actual voltage difference across the cell boundary of a firing nerve cell?\n",
    "3. How numerically stable is the model? Is energy conserved? Could other integration schemes be better?\n",
    "4. What effect would it have on the model if you added viscous friction? (Remember, these charges are moving in a fluid, after all!)\n",
    "5. Is it OK to neglect the dielectric properties of the fluid surrounding the neuron? Suggested reading:  https://www.ncbi.nlm.nih.gov/pmc/articles/PMC4257975/\n",
    "6. Is it possible to find more realistic values for the thermal energy/jiggle rate of the charges?\n",
    "7. Is setting the electrical force to zero when particles get close unrealistic? In real life particles do all kinds of interesting things when they get really close. A possible way of modelling this is using interatomic potentials, like the Lennard-Jones or Morse potential. How does this change your results?\n",
    "8. What happens if you add voltage gated channels to the permeable membrate? \n",
    "9. In real cells, there is a structure called a sodium potassium pump, which treats the ions differently. What happens if you use more realistic values of ions (like sodium and potassium) and the pump mechanism?\n",
    "10. In class, one assignment may ask you to model an axon (the other part of a nerve cell, which transmits the signal). How could you connect this simulation with that one? Note that if the instructor has not included this assignment, you can contact Tor Odden to request a copy.\n",
    "11. What do you see if you animate the motions of the charges in the cell?\n",
    "\n",
    "*(Note that these are just meant to be suggestions—feel free to investigate any question you find interesting!)*"
   ]
  },
  {
   "cell_type": "code",
   "execution_count": null,
   "metadata": {},
   "outputs": [],
   "source": []
  }
 ],
 "metadata": {
  "colab": {
   "collapsed_sections": [],
   "name": "Neurons(2).ipynb",
   "provenance": [],
   "version": "0.3.2"
  },
  "kernelspec": {
   "display_name": "Python 3",
   "language": "python",
   "name": "python3"
  },
  "language_info": {
   "codemirror_mode": {
    "name": "ipython",
    "version": 3
   },
   "file_extension": ".py",
   "mimetype": "text/x-python",
   "name": "python",
   "nbconvert_exporter": "python",
   "pygments_lexer": "ipython3",
   "version": "3.7.7"
  }
 },
 "nbformat": 4,
 "nbformat_minor": 1
}
