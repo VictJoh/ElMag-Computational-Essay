{
 "cells": [
  {
   "cell_type": "markdown",
   "metadata": {},
   "source": [
    "# 2D Stormcloud, with lightning\n",
    "\n",
    "## Introduction \n",
    "\n",
    "In this notebook, we will model the path of a bolt of lightning. This simulation will create a grid of points and then solve Poisson's equation on that grid in order to find the electric potential throughout the 2D space. Based on that electric potential, it will predict where the lightning strike begins, then repeat the process to see how it advances."
   ]
  },
  {
   "cell_type": "markdown",
   "metadata": {},
   "source": [
    "First, we import the essential tools: numpy and matplotlib, along with some formatting for matplotlib.\n",
    "\n",
    "We also import numba, which gives us access to jit, a package that significantly speeds up processing. We add a command to supress warnings, since it will trow lots of warnings when executing this code (feel free to delete the last line if you'd like to see what they are)."
   ]
  },
  {
   "cell_type": "code",
   "execution_count": 1,
   "metadata": {},
   "outputs": [],
   "source": [
    "import numpy as np\n",
    "import matplotlib.pyplot as plt\n",
    "%matplotlib inline\n",
    "\n",
    "#Numba speeds up processing, though it throws a lot of warnings when executing this code\n",
    "import numba\n",
    "from numba.errors import NumbaWarning\n",
    "import warnings\n",
    "warnings.simplefilter('ignore', category=NumbaWarning)"
   ]
  },
  {
   "cell_type": "markdown",
   "metadata": {},
   "source": [
    "Next, we define a function that will solve Poisson's equation on a rectangular grid, using a method called the \"method of relaxation.\" This method relies on the fact that, as long as there are no charges in a region, the potential in that region will only change gradually. So, given a set of boundary conditions (places where the potential is specified or well defined) we can find the values of electric potential at certain points by averaging the potential of neighboring points. By doing this over and over, we eventually get a stable solution.\n",
    "\n",
    "In the following function, the boundary conditions are given by the array b. In the points where b is defined (has a value), the boundary conditions are assumed to be this value. Where b is 'nan' (not defined—that is, we have yet to find it) we use the method of relaxation to find the value."
   ]
  },
  {
   "cell_type": "code",
   "execution_count": 2,
   "metadata": {},
   "outputs": [],
   "source": [
    "@numba.jit\n",
    "def solvepoisson(b,nrep):\n",
    "    \n",
    "    \"\"\"A Poisson-solver function, using the method of relaxation to find the electric \n",
    "    potential in a region of space\n",
    "    \"\"\"\n",
    "    \n",
    "    # b = boundary conditions\n",
    "    # nrep = number of iterations\n",
    "\n",
    "    z = np.copy(b)     # z = electric potential field\n",
    "    j = np.where(np.isnan(b)) #checks for where the points have no value, assigns them the value 0\n",
    "    z[j] = 0.0\n",
    "    \n",
    "    znew = np.copy(z)\n",
    "    Lx = np.size(b,0) #determine the x range of the point grid\n",
    "    Ly = np.size(b,1) #determine the y range of the point grid\n",
    "    \n",
    "    for n in range(nrep): \n",
    "        for ix in range(Lx):\n",
    "            for iy in range(Ly):\n",
    "                ncount = 0.0 \n",
    "                pot = 0.0\n",
    "                if (np.isnan(b[ix,iy])): #check for cases in which the value is unspecified in the original grid\n",
    "                    #Now, add up the potentials of all the the points around it\n",
    "                    if (ix>0): \n",
    "                        ncount = ncount + 1.0\n",
    "                        pot = pot + z[ix-1,iy]\n",
    "                    if (ix<Lx-1):\n",
    "                        ncount = ncount + 1.0\n",
    "                        pot = pot + z[ix+1,iy]\n",
    "                    if (iy>0):\n",
    "                        ncount = ncount + 1.0\n",
    "                        pot = pot + z[ix,iy-1]\n",
    "                    if (iy<Ly-1):\n",
    "                        ncount = ncount + 1.0\n",
    "                        pot = pot + z[ix,iy+1]\n",
    "                    znew[ix,iy] = pot/ncount #Divide by the number of contributing surrounding points to find average potential\n",
    "                else:\n",
    "                    znew[ix,iy]=z[ix,iy] #If the value is specified, keep it\n",
    "        tmp_z = znew # Swapping the field used for the calucaltions with the field from the previous iteration\n",
    "        znew = z     # (to prepare for the next iteration)\n",
    "        z = tmp_z     \n",
    "    return z "
   ]
  },
  {
   "cell_type": "markdown",
   "metadata": {},
   "source": [
    "Now, we will use the poisson solver to simulate lightning. First, we will set up the boundary conditions, creating a grid of 50 by 50 points, setting all values to 'nan' (meaning they need to be solved for) except at the top (the cloud) where the potential is specified to be 1, and at the bottom (the ground) where it is specified to be zero."
   ]
  },
  {
   "cell_type": "code",
   "execution_count": 3,
   "metadata": {},
   "outputs": [],
   "source": [
    "# First, we set up the boundary conditions\n",
    "Lx = 50\n",
    "Ly = 50\n",
    "z = np.zeros((Lx,Ly),float)\n",
    "b = np.copy(z)\n",
    "c = np.copy(z)\n",
    "b[:] = np.float('nan')\n",
    "\n",
    "# Set the potential at the top of the grid to 1\n",
    "b[:,0] = 1.0\n",
    "\n",
    "# Set the potential at the bottom of the grid to 0\n",
    "b[:,Ly-1]=0.0"
   ]
  },
  {
   "cell_type": "markdown",
   "metadata": {},
   "source": [
    "Now, to add in the lightning. To simulate the path of the lightning strike we will work backwards, starting with some charge on the ground and seeing where it moves to in order to get up to the cloud (this is simulating so-called \"ground to cloud\" lightning). This charge, because it is negative, prefers to stay at low potential, in this case V = 0. So, to find the path of the lightning, we will proceed as follows:\n",
    "\n",
    "1. Use the poisson solver to find the potential across the entire space, ground to cloud, starting with the ground\n",
    "2. Find where the charge is most likely to move to, based on the potential values multiplied by a random factor\n",
    "3. Set that location's potential equal to 0\n",
    "4. Update the neighboring positions to the lightning's path, making them possible locations for the lightning's next move\n",
    "\n",
    "In practice, this means we will be working with three arrays: The first holds the boundary values and the lightning's path (we call that one **b**; it was already defined, but will be updated based on the lightning's path). The second holds the possible places the lightning can move, stored as 'nan' values (we call that one **zeroneighbor**). The last holds the probabilistic values that lighting will move to particular positions (we call that one **sprob**)."
   ]
  },
  {
   "cell_type": "code",
   "execution_count": 4,
   "metadata": {},
   "outputs": [],
   "source": [
    "# Create a copy of the boundary conditions matrix which will be used to check \n",
    "#for possible locations for the lightning's path\n",
    "zeroneighbor = np.copy(z) \n",
    "zeroneighbor[:] = 0.0 #set all values in it equal to 0\n",
    "#set the values next to the ground equal to 'nan'. This is where the lightning can start\n",
    "zeroneighbor[:,Ly-2] = np.float('nan') \n",
    "\n",
    "\n",
    "nrep = 3000 # Number of jacobi steps\n",
    "eta = 1.0 #A factor that will be used in probability calculation\n",
    "ymin = Ly-1 #The y value where we will stop (just above the ground)\n",
    "ns = 0\n",
    "while (ymin>0): \n",
    "    # First find potential on the entire grid, based on the original boundary conditions\n",
    "    s = solvepoisson(b,nrep)\n",
    "\n",
    "    # Probability that lightning will move to a new position may depend on potential to power eta\n",
    "    sprob = s**eta\n",
    "    # We also multiply by a random number, uniform between 0 and 1, to introduce some randomness\n",
    "    # And we multiply with isnan(zeroneighbor) to ensure only 'nan' points can be chosen\n",
    "    sprob = sprob*np.random.uniform(0,1,(Lx,Ly))*np.isnan(zeroneighbor) \n",
    "    \n",
    "    #now, find the point with max probability \n",
    "    [ix,iy] = np.unravel_index(np.argmax(sprob,axis=None),sprob.shape)\n",
    "    \n",
    "    # Update the boundary condition array to set the potential where the lightning is to 0\n",
    "    b[ix,iy] = 0.0\n",
    "    \n",
    "    # Update neighbor positions of the lightning path to 'nan' (making them possible choices for the next iteration) \n",
    "    if (ix>0):\n",
    "        zeroneighbor[ix-1,iy]=np.float('nan')\n",
    "    if (ix<Lx-1):\n",
    "        zeroneighbor[ix+1,iy]=np.float('nan')\n",
    "    if (iy>0):\n",
    "        zeroneighbor[ix,iy-1]=np.float('nan')\n",
    "    if (iy<Ly-1):\n",
    "        zeroneighbor[ix,iy+1]=np.float('nan')\n",
    "        \n",
    "    ns = ns + 1\n",
    "    c[ix,iy] = ns #create an array of the lightning's path, scaled by the number of loops\n",
    "    if (iy<ymin): #iterate to the next set of y-values\n",
    "        ymin = iy\n"
   ]
  },
  {
   "cell_type": "code",
   "execution_count": 5,
   "metadata": {},
   "outputs": [
    {
     "data": {
      "image/png": "[encoded data removed]",
      "text/plain": [
       "<Figure size 1152x288 with 6 Axes>"
      ]
     },
     "metadata": {
      "needs_background": "light"
     },
     "output_type": "display_data"
    }
   ],
   "source": [
    "plt.rcParams['figure.figsize'] = [16, 4]\n",
    "plt.subplot(1,3,1)\n",
    "plt.imshow(c.T) #create a plot of the lightning's path\n",
    "plt.colorbar()\n",
    "\n",
    "plt.subplot(1,3,2)\n",
    "plt.imshow(s.T) #create a plot of the final potential\n",
    "plt.colorbar()\n",
    "\n",
    "plt.subplot(1,3,3)\n",
    "plt.imshow(sprob.T) #create a plot of the relative probabilities of the next step\n",
    "plt.colorbar()\n",
    "plt.show()"
   ]
  },
  {
   "cell_type": "markdown",
   "metadata": {},
   "source": [
    "## Additional questions you might investigate\n",
    "\n",
    "1. What happens if there is a lightning rod or other conductor attached to the ground?\n",
    "    * Remember that that E = 0 inside conductors, so there will be a constant potential around the edge\n",
    "2. What happens if the stormcloud has a defined shape?\n",
    "3. Does this simulation tell us anything about other cases, like cloud-to-ground lightning?\n",
    "    * In real cases of cloud-to-ground lightning, lightning strikes consist of so-called \"leaders\" (charged ions that move down from a cloud) and \"streamers\" (oppositely charged ions that move upwards from the ground to meet the leader). Does this simulation allow us to understand anything about the conditions that create leaders and/or streamers?\n",
    "\n",
    "*(Note that these are just meant to be suggestions—feel free to investigate any question you find interesting!)*"
   ]
  },
  {
   "cell_type": "code",
   "execution_count": null,
   "metadata": {},
   "outputs": [],
   "source": []
  }
 ],
 "metadata": {
  "kernelspec": {
   "display_name": "Python 3",
   "language": "python",
   "name": "python3"
  },
  "language_info": {
   "codemirror_mode": {
    "name": "ipython",
    "version": 3
   },
   "file_extension": ".py",
   "mimetype": "text/x-python",
   "name": "python",
   "nbconvert_exporter": "python",
   "pygments_lexer": "ipython3",
   "version": "3.7.7"
  }
 },
 "nbformat": 4,
 "nbformat_minor": 2
}
