{
 "cells": [
  {
   "cell_type": "markdown",
   "metadata": {},
   "source": [
    "# Polar Diatomic Molecules \n",
    "\n",
    "## Introduction\n",
    "The aim of this notebook is to simulate a polar molecule, hydrogen chloride (HCl), to get a feel for the general behavior of polar molecules under different conditions. The polarity comes from the differing charges in the molecule: as chloride is more electronegative than hydrogen, it will pull more strongly on their shared electron, causing a partial positive charge at the hydrogen and a partial negative charge on the chlorine. In liquid form, between about -85$^\\circ$ and -114$^\\circ$ C, HCl should then behave in much the same way as water (another polar molecule). "
   ]
  },
  {
   "cell_type": "markdown",
   "metadata": {},
   "source": [
    "## Setting up the simulation"
   ]
  },
  {
   "cell_type": "markdown",
   "metadata": {},
   "source": [
    "As always, we first need to import some toolboxes to make our lives easier. "
   ]
  },
  {
   "cell_type": "code",
   "execution_count": 1,
   "metadata": {},
   "outputs": [],
   "source": [
    "import numpy as np \n",
    "import time #to measure time\n",
    "import matplotlib.pyplot as plt\n",
    "np.random.seed(0) #sets the seed for the simulation"
   ]
  },
  {
   "cell_type": "markdown",
   "metadata": {},
   "source": [
    "Now, we define some constants for the model, including the [atomic mass unit](https://physics.nist.gov/cgi-bin/cuu/Value?ukg) (u), [elementary electric charge](https://physics.nist.gov/cgi-bin/cuu/Value?e) (e), [vacuum permittivity](https://physics.nist.gov/cgi-bin/cuu/Value?ep0), Coulomb constant, and the [Boltzmann Constant](https://physics.nist.gov/cgi-bin/cuu/Value?k)"
   ]
  },
  {
   "cell_type": "code",
   "execution_count": 2,
   "metadata": {},
   "outputs": [],
   "source": [
    "u = 1.66053906660e-27 #atomic mass unit\n",
    "e_charge =  1.602176634e-19 # Elementary charge (1 eV)\n",
    "vac_perm = 8.8541878128e-12 #s^2*C^2*/m^3/kg\n",
    "k_e = 1/(4*np.pi*vac_perm) # m^3*kg/s^2/C^2 Coulomb constant\n",
    "k_boltz = 1.380649e-23 #Boltzmann constant"
   ]
  },
  {
   "cell_type": "markdown",
   "metadata": {},
   "source": [
    "Next, we define some simulation parameters: the grid dimensions, the corresponding number of molecules in the simulation, and the number/length of the timesteps in the simulation."
   ]
  },
  {
   "cell_type": "code",
   "execution_count": 3,
   "metadata": {},
   "outputs": [],
   "source": [
    "# Simulation parameters\n",
    "grid_dims = np.array([4,4]) # Determines the number of molecules in the simulation (x*y)\n",
    "num_molecules = np.prod(grid_dims) #explicitly determine number of molecules in the simulation, here set to fill the grid\n",
    "timesteps = 5000 #Number of timesteps to simulate\n",
    "dt = 5e-17 #[s] Extremely low timestep"
   ]
  },
  {
   "cell_type": "markdown",
   "metadata": {},
   "source": [
    "We will model the polar molecules as an electric dipole, essentially positive charge bound to a negative charge. We create a function that generates the starting positions of the HCl molecules in a square grid, while each molecule is rotated at some random angle (by choosing the x and y value for the hydrogen atoms from a normal distribution). The two atoms that make up each molecule are initialized in their equilibrium positions, one 'bond_length' away from each other. "
   ]
  },
  {
   "cell_type": "code",
   "execution_count": 4,
   "metadata": {},
   "outputs": [],
   "source": [
    "def make_liquid(num_molecules, dims, bond_length, grid_dims, side_lengths):\n",
    "    \"\"\"Function to generate the polar molecules on a square grid\"\"\"\n",
    "    \n",
    "    #pos lets one atom spawn a bond_length away from the other atom, in a uniformly distributed random direction\n",
    "    pos = np.random.normal(0,1,size=(num_molecules,dims)) #create an array to hold the x and y values of the hydrogen atom positions, relative to the molecule's location\n",
    "    r = np.linalg.norm(pos, axis = 1) #determine the length of the random spacing between the atoms\n",
    "    \n",
    "    pos = pos/r.reshape(num_molecules,1)*bond_length #scale the positions by the random spacing length to normalize\n",
    "    \"\"\"Note: reshape allows the array of shape (num_molecules, dims) to be\n",
    "    divided by an array (tuple) with shape (num_molecules, )\n",
    "    by giving it shape (num_molecules, 1), both the x and y component will then be divided by r. \"\"\"\n",
    "    \n",
    "    molecule = np.zeros((num_molecules, dims)) #array to hold the positions of the different atoms\n",
    "    \n",
    "    #initialize the molecules in a square grid, with random rotation\n",
    "    xx = np.linspace(-side_lengths[0]/2, side_lengths[0]/2, grid_dims[0]) #x dimension for meshgrid\n",
    "    yy = np.linspace(-side_lengths[1]/2, side_lengths[1]/2, grid_dims[1]) #y dimension for meshgrid\n",
    "    mesh_x, mesh_y = np.meshgrid(xx,yy) #creates two meshgrids \n",
    "    \n",
    "    #ravel flattens the 2d array into a 1d array\n",
    "    molecule[:,0] = np.ravel(mesh_x) # Sets the x-position for all the hydrogen atoms\n",
    "    molecule[:,1] = np.ravel(mesh_y) # Sets the y-position for all the hydrogen atoms\n",
    "    # The centre of the molecules will be in a grid formation\n",
    "    hydrogen = molecule - pos/2 \n",
    "    chlorine = molecule + pos/2\n",
    "    \n",
    "    return hydrogen, chlorine"
   ]
  },
  {
   "cell_type": "markdown",
   "metadata": {},
   "source": [
    "## Parameters for simulating HCl\n",
    "\n",
    "With our constant and simulation function defined, we need to define some more specific parameters that will allow us to simulate a specific hydrogen chloride system. These include the number of atoms in a single molecule, the number of spatial dimensions, and the parameters for the specific type of molecule we're dealing with (HCl in this example). Note that the simulation is currently written to be only in 2D, but could certainly be expanded to 3D."
   ]
  },
  {
   "cell_type": "code",
   "execution_count": 5,
   "metadata": {},
   "outputs": [],
   "source": [
    "num_atoms = 2 #number of atoms in one molecule\n",
    "dims = 2 #number of spatial dimensions \n",
    "# (the rest of the code is not written to handle anything but two dimensions, though you could change that)\n",
    "\n",
    "partial_charge = 0.1811*e_charge # The partial charges for the atoms in HCl\n",
    "# https://chem.libretexts.org/Courses/Mount_Royal_University/Chem_1201/Unit_3%3A_Chemical_Bonding_I_-_Lewis_Theory/3.4%3A_Bond_Polarity\n",
    "charge_H = partial_charge # Effective charge of the hydrogen\n",
    "charge_Cl = -partial_charge # Effective charge of the chlorine\n",
    "# Cl is more electronegative than H, so the electron is, on average, closer to the Cl\n",
    "\n",
    "mass_H = 1.00794*u # Mass of hydrogen\n",
    "mass_Cl= 35.4527*u # Mass of chlorine\n",
    "#http://www.chemicalelements.com/elements\n",
    "\n",
    "bond_length = 0.13e-9 #[m] the distance between H and Cl in HCl\n",
    "# http://hyperphysics.phy-astr.gsu.edu/hbase/molecule/vibrot.html#c3\n",
    "side_lengths = [2*grid_dims[0]*bond_length, 2*grid_dims[1]*bond_length]\n",
    "# Determines the spacing of the molecules in x and y direction\n",
    "k_spring = 481 #bond strength of HCl\n",
    "#http://hyperphysics.phy-astr.gsu.edu/hbase/molecule/vibrot.html#c2"
   ]
  },
  {
   "cell_type": "markdown",
   "metadata": {},
   "source": [
    "Finally, we need to make some numpy arrays, so we can fill and use them later. These will be useful for both graphing and speeding up calculations. Then, we call the make_liquid function to create the simulation."
   ]
  },
  {
   "cell_type": "code",
   "execution_count": 6,
   "metadata": {},
   "outputs": [],
   "source": [
    "# Initialize numpy arrays\n",
    "position_H = np.zeros((timesteps, num_molecules, dims))\n",
    "position_Cl = np.zeros((timesteps, num_molecules, dims))\n",
    "matrix_shape = position_H.shape \n",
    "# The other arrays (vel, acc, etc.) should be the same shape as the position arrays\n",
    "velocity_H = np.zeros(matrix_shape) # Velocity\n",
    "velocity_Cl = np.zeros(matrix_shape) # Velocity\n",
    "acceleration_H = np.zeros(matrix_shape) # Acceleration\n",
    "acceleration_Cl = np.zeros(matrix_shape) # Acceleration\n",
    "coulomb_acc_H = np.zeros(matrix_shape) # Intermolecular coulomb interaction\n",
    "coulomb_acc_Cl = np.zeros(matrix_shape) # Intermolecular coulomb interaction\n",
    "spring_acc_H = np.zeros(matrix_shape) # Intramolecular interaction\n",
    "spring_acc_Cl = np.zeros(matrix_shape) # Intramolecular interaction\n",
    "\n",
    "# Set the initial position for all the atoms\n",
    "position_H[0], position_Cl[0] = make_liquid(num_molecules, dims, bond_length, grid_dims, side_lengths)"
   ]
  },
  {
   "cell_type": "markdown",
   "metadata": {},
   "source": [
    "## Forces and integration loop\n",
    "\n",
    "To model the bonding between to atoms, to create a molecule, a harmonic oscillator potential is used. The force is then simply calculated usig Hooke's law with the appropriate constants, found in [hyperphysics](http://hyperphysics.phy-astr.gsu.edu/hbase/molecule/vibrot.html). This force is given by\n",
    "\n",
    "$$ F(x) = k(x-x_0) $$\n",
    "\n",
    "where $k = k\\_spring$ is the spring constant, $x = spring\\_distance$ is the distance between the two relevant atoms, and $x_0 = bond\\_length$ is the equilibrium distance for HCl. \n",
    "\n",
    "The second force, which to us is the most interesting, is Coulomb force. We get Coulomb forces between HCl molecules because the hydrogen and the chlorine have opposite partial charges. The forces, between atoms in different molecules, are then given by\n",
    "\n",
    "$$ F(x) = k_e\\frac{q_Hq_{Cl}}{x^2} $$\n",
    "\n",
    "where $k_e$ is the Coulomb constant, while $q_H = +\\delta$ and $q_{Cl} = -\\delta$ are the charges of the two atoms, where $\\delta = 0.1811 e$ is the partial charge. \n",
    "\n",
    "To integrate these forces we use the familiar Euler-Chromer method. "
   ]
  },
  {
   "cell_type": "code",
   "execution_count": 7,
   "metadata": {},
   "outputs": [
    {
     "name": "stdout",
     "output_type": "stream",
     "text": [
      "250 of 5000\n",
      "500 of 5000\n",
      "750 of 5000\n",
      "1000 of 5000\n",
      "1250 of 5000\n",
      "1500 of 5000\n",
      "1750 of 5000\n",
      "2000 of 5000\n",
      "2250 of 5000\n",
      "2500 of 5000\n",
      "2750 of 5000\n",
      "3000 of 5000\n",
      "3250 of 5000\n",
      "3500 of 5000\n",
      "3750 of 5000\n",
      "4000 of 5000\n",
      "4250 of 5000\n",
      "4500 of 5000\n",
      "4750 of 5000\n",
      "It took 9.5 seconds to simulate 16 molecules for 5000 timesteps\n"
     ]
    }
   ],
   "source": [
    "timeit_start = time.time()\n",
    "for t in range(timesteps-1):\n",
    "    #-----------------------------------------------\n",
    "    # Spring potential to simulate atom interactions in a molecule, the bond force, using for loops\n",
    "    # This potential is a good approximations only when the atoms are close to the equilibrium, \n",
    "    # it does not allow the bondings to \"break\"\n",
    "    for i in range(num_molecules):\n",
    "        spring_difference = position_Cl[t,i] - position_H[t,i]\n",
    "        # position of one atom minus the position of the other,\n",
    "        # gives the vector from H to Cl\n",
    "        spring_distance = np.linalg.norm(spring_difference)\n",
    "        # Distance between the bound atoms\n",
    "        spring_unitvector = spring_difference/spring_distance\n",
    "        # Unit vector pointing from H to Cl (from Cl to H would then be its negative)\n",
    "        spring_force = k_spring*(spring_distance - bond_length) \n",
    "        # Hooke's law, spring constant*distance from equilibrium\n",
    "        spring_acc_H[t,i] = spring_unitvector*spring_force/mass_H #direction*force/mass\n",
    "        spring_acc_Cl[t,i] = -spring_unitvector*spring_force/mass_Cl #direction*force/mass\n",
    "\n",
    "    #-----------------------------------------------\n",
    "    # Coulomb force between molecules\n",
    "    for i in range(num_molecules):#num_molecules):\n",
    "        coulomb_mask = np.arange(0,num_molecules)!=i #a mask to ignore atoms in the same molecule (same index)\n",
    "        # Helps us in somewhat vectorizing the calculation\n",
    "        \n",
    "        coulomb_difference_H_H = position_H[t,i] - position_H[t,coulomb_mask] \n",
    "        #x and y difference between the hydrogen and other all other hydrogen atoms\n",
    "        coulomb_difference_H_Cl = position_H[t,i] - position_Cl[t,coulomb_mask] \n",
    "        #x and y difference between the hydrogen and all chlorine atoms in other molecules\n",
    "        coulomb_difference_Cl_H = position_Cl[t,i] - position_H[t,coulomb_mask] \n",
    "        #x and y difference between the chlorine and all hydrogen atoms in other molecules\n",
    "        coulomb_difference_Cl_Cl = position_Cl[t,i] - position_Cl[t,coulomb_mask]\n",
    "        #x and y difference between the hydrogen and other all other hydrogen atoms\n",
    "        \n",
    "        # Calculates the distance from one atom to num_molecules-1 other atoms\n",
    "        coulomb_distance_H_H = np.linalg.norm(coulomb_difference_H_H, axis = 1) # The distances between the atoms\n",
    "        coulomb_distance_H_Cl = np.linalg.norm(coulomb_difference_H_Cl, axis = 1)\n",
    "        coulomb_distance_Cl_H = np.linalg.norm(coulomb_difference_Cl_H, axis = 1)\n",
    "        coulomb_distance_Cl_Cl = np.linalg.norm(coulomb_difference_Cl_Cl, axis = 1)\n",
    "        \n",
    "        # Reshape distance from (num_molecules-1,) to (num_molecules-1, 1)\n",
    "        # This gives us num_molecules-1 unit vectors from one atom to num_molecules-1 others\n",
    "        coulomb_unitvector_H_H = coulomb_difference_H_H/coulomb_distance_H_H.reshape(-1,1)\n",
    "        coulomb_unitvector_H_Cl = coulomb_difference_H_Cl/coulomb_distance_H_Cl.reshape(-1,1)\n",
    "        coulomb_unitvector_Cl_H = coulomb_difference_Cl_H/coulomb_distance_Cl_H.reshape(-1,1)\n",
    "        coulomb_unitvector_Cl_Cl = coulomb_difference_Cl_Cl/coulomb_distance_Cl_Cl.reshape(-1,1)\n",
    "        \n",
    "        # Calculate the force according to Coulomb's law\n",
    "        coulomb_force_H_H = k_e*charge_H*charge_H*coulomb_unitvector_H_H/coulomb_distance_H_H.reshape(-1,1)**2\n",
    "        coulomb_force_H_Cl = k_e*charge_H*charge_Cl*coulomb_unitvector_H_Cl/coulomb_distance_H_Cl.reshape(-1,1)**2\n",
    "        coulomb_force_Cl_H = k_e*charge_Cl*charge_H*coulomb_unitvector_Cl_H/coulomb_distance_Cl_H.reshape(-1,1)**2\n",
    "        coulomb_force_Cl_Cl = k_e*charge_Cl*charge_Cl*coulomb_unitvector_Cl_Cl/coulomb_distance_Cl_Cl.reshape(-1,1)**2\n",
    "        \n",
    "        # Sum together the forces from the different molecules acting upon atom i, and divide by mass to get acc\n",
    "        coulomb_acc_H[t,i] = (np.sum(coulomb_force_H_H, axis = 0)\\\n",
    "                           + np.sum(coulomb_force_H_Cl, axis = 0))/mass_H\n",
    "        coulomb_acc_Cl[t,i] = (np.sum(coulomb_force_Cl_H, axis = 0)\\\n",
    "                            + np.sum(coulomb_force_Cl_Cl, axis = 0))/mass_Cl\n",
    "        \n",
    "    #----------------------------------------------\n",
    "    # Sum the accelerations\n",
    "    acceleration_H[t] = coulomb_acc_H[t] + spring_acc_H[t]\n",
    "    acceleration_Cl[t] = coulomb_acc_Cl[t] + spring_acc_Cl[t]\n",
    "    \n",
    "    # Euler Chromer\n",
    "    velocity_H[t+1] = velocity_H[t] + acceleration_H[t]*dt\n",
    "    velocity_Cl[t+1] = velocity_Cl[t] + acceleration_Cl[t]*dt\n",
    "    position_H[t+1] = position_H[t] + velocity_H[t+1]*dt\n",
    "    position_Cl[t+1] = position_Cl[t] + velocity_Cl[t+1]*dt\n",
    "    \n",
    "    if t!=0 and t%int(timesteps/20) == 0: # Every long for-loop needs some kind of \"loading bar\"\n",
    "        print(t, 'of', timesteps)\n",
    "timeit_stop = time.time()\n",
    "print('It took %.1f seconds to simulate %i molecules for %i timesteps' \\\n",
    "      %(timeit_stop-timeit_start, num_molecules, timesteps))"
   ]
  },
  {
   "cell_type": "markdown",
   "metadata": {},
   "source": [
    "Here we graph the simulation, to see how the molecules behave. "
   ]
  },
  {
   "cell_type": "code",
   "execution_count": 8,
   "metadata": {},
   "outputs": [
    {
     "data": {
      "image/png": "[encoded data removed]",
      "text/plain": [
       "<Figure size 432x288 with 2 Axes>"
      ]
     },
     "metadata": {
      "needs_background": "light"
     },
     "output_type": "display_data"
    }
   ],
   "source": [
    "plt.subplot(121) #Plots the initial positions of the molecules\n",
    "plt.gca().set_aspect('equal', adjustable='box')\n",
    "plt.plot(position_H[0,:,0], position_H[0,:,1], '+r', lw=2)\n",
    "plt.plot(position_Cl[0,:,0], position_Cl[0,:,1], 'b', marker = 1, linestyle = 'None')\n",
    "\n",
    "plt.subplot(122) # Plots the final position of the molecules\n",
    "plt.gca().set_aspect('equal', adjustable='box')\n",
    "plt.plot(position_H[-1,:,0], position_H[-1,:,1], '+r', lw=2)\n",
    "plt.plot(position_Cl[-1,:,0], position_Cl[-1,:,1], 'b', marker = 1, linestyle = 'None')\n",
    "\n",
    "plt.show()"
   ]
  },
  {
   "cell_type": "markdown",
   "metadata": {},
   "source": [
    "## Additional questions you might investigate \n",
    "\n",
    "1. Can you attract the liquid? \n",
    "    * https://www.youtube.com/watch?v=yqU8vVPX0Cw \n",
    "2. How would the molecules line up with a large charge in the centre? What physical situation would this simulate?\n",
    "3. Is there some way to model surface tension, like water on a teflon pan? \n",
    "4. How would you modify this program to simulate water, instead of HCl?\n",
    "5. Currently, the only intermolecular forces are caused by Coulomb forces. However, this might be a problem if the atoms get too close to one another. What would you add to this simulation to make that behavior more realistic? What effect does this have on the simulation behavior?\n",
    "7. How would the polar molecules react to a homogeneous or inhomogenous electric field? What physical situation would this simulate?\n",
    "8. Is Euler-Chromer the optimal integration method? Why/why not? What changes with other integration methods?\n",
    "\n",
    "Note that one of the first things you might try to do is to animate the motion of the molecules, since it is difficult to envision how the molecules behave during the simulation without being able to see them moving. Matplotlib has an animation library that works well without too much coding required.\n",
    "\n",
    "*(These are just meant to be suggestions—feel free to investigate any question you find interesting!)*\n",
    "\n"
   ]
  },
  {
   "cell_type": "code",
   "execution_count": null,
   "metadata": {},
   "outputs": [],
   "source": []
  }
 ],
 "metadata": {
  "kernelspec": {
   "display_name": "Python 3",
   "language": "python",
   "name": "python3"
  },
  "language_info": {
   "codemirror_mode": {
    "name": "ipython",
    "version": 3
   },
   "file_extension": ".py",
   "mimetype": "text/x-python",
   "name": "python",
   "nbconvert_exporter": "python",
   "pygments_lexer": "ipython3",
   "version": "3.7.7"
  }
 },
 "nbformat": 4,
 "nbformat_minor": 2
}
